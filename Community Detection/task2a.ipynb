{
 "cells": [
  {
   "cell_type": "markdown",
   "metadata": {},
   "source": [
    " Compare at least 3 different community detection algorithms for 2 different datasets given\n",
    "as a graph (different from the ones used in Task 1) for which the ground-truth partition is known. Compute\n",
    "the partitions and compare their modularity as well as AMI and ARI measures"
   ]
  },
  {
   "cell_type": "code",
   "execution_count": 111,
   "metadata": {},
   "outputs": [],
   "source": [
    "import numpy as np\n",
    "import pandas as pd\n",
    "import networkx as nx\n",
    "import matplotlib.pyplot as plt\n",
    "from sklearn.metrics.cluster import adjusted_mutual_info_score, adjusted_rand_score"
   ]
  },
  {
   "cell_type": "markdown",
   "metadata": {},
   "source": [
    "## Loading data"
   ]
  },
  {
   "cell_type": "code",
   "execution_count": 112,
   "metadata": {},
   "outputs": [],
   "source": [
    "# edges = \"data/dolphins.edges\"\n",
    "# clusters = \"data/dolphins.clusters\"\n",
    "edges = \"data/karate.edges\"\n",
    "clusters = \"data/karate.clusters\""
   ]
  },
  {
   "cell_type": "code",
   "execution_count": 113,
   "metadata": {},
   "outputs": [
    {
     "data": {
      "text/plain": [
       "array([1, 1, 1, 1, 1, 1, 1, 1, 2, 2, 1, 1, 1, 1, 2, 2, 1, 1, 2, 1, 2, 1,\n",
       "       2, 2, 2, 2, 2, 2, 2, 2, 2, 2, 2, 2], dtype=int64)"
      ]
     },
     "execution_count": 113,
     "metadata": {},
     "output_type": "execute_result"
    }
   ],
   "source": [
    "data = pd.read_csv(edges, sep='\\t', names=['source', 'target'])\n",
    "G = nx.from_pandas_edgelist(data, 'source', 'target')\n",
    "\n",
    "clusterss = pd.read_csv(clusters, sep='\\t', names=['node', 'cluster'])\n",
    "ground_communities = clusterss['cluster'].values\n",
    "ground_communities"
   ]
  },
  {
   "cell_type": "code",
   "execution_count": 114,
   "metadata": {},
   "outputs": [
    {
     "data": {
      "text/html": [
       "<div>\n",
       "<style scoped>\n",
       "    .dataframe tbody tr th:only-of-type {\n",
       "        vertical-align: middle;\n",
       "    }\n",
       "\n",
       "    .dataframe tbody tr th {\n",
       "        vertical-align: top;\n",
       "    }\n",
       "\n",
       "    .dataframe thead th {\n",
       "        text-align: right;\n",
       "    }\n",
       "</style>\n",
       "<table border=\"1\" class=\"dataframe\">\n",
       "  <thead>\n",
       "    <tr style=\"text-align: right;\">\n",
       "      <th></th>\n",
       "      <th>source</th>\n",
       "      <th>target</th>\n",
       "    </tr>\n",
       "  </thead>\n",
       "  <tbody>\n",
       "    <tr>\n",
       "      <th>0</th>\n",
       "      <td>0</td>\n",
       "      <td>1</td>\n",
       "    </tr>\n",
       "    <tr>\n",
       "      <th>1</th>\n",
       "      <td>0</td>\n",
       "      <td>2</td>\n",
       "    </tr>\n",
       "    <tr>\n",
       "      <th>2</th>\n",
       "      <td>0</td>\n",
       "      <td>3</td>\n",
       "    </tr>\n",
       "    <tr>\n",
       "      <th>3</th>\n",
       "      <td>0</td>\n",
       "      <td>4</td>\n",
       "    </tr>\n",
       "    <tr>\n",
       "      <th>4</th>\n",
       "      <td>0</td>\n",
       "      <td>5</td>\n",
       "    </tr>\n",
       "    <tr>\n",
       "      <th>...</th>\n",
       "      <td>...</td>\n",
       "      <td>...</td>\n",
       "    </tr>\n",
       "    <tr>\n",
       "      <th>73</th>\n",
       "      <td>30</td>\n",
       "      <td>32</td>\n",
       "    </tr>\n",
       "    <tr>\n",
       "      <th>74</th>\n",
       "      <td>30</td>\n",
       "      <td>33</td>\n",
       "    </tr>\n",
       "    <tr>\n",
       "      <th>75</th>\n",
       "      <td>31</td>\n",
       "      <td>32</td>\n",
       "    </tr>\n",
       "    <tr>\n",
       "      <th>76</th>\n",
       "      <td>31</td>\n",
       "      <td>33</td>\n",
       "    </tr>\n",
       "    <tr>\n",
       "      <th>77</th>\n",
       "      <td>32</td>\n",
       "      <td>33</td>\n",
       "    </tr>\n",
       "  </tbody>\n",
       "</table>\n",
       "<p>78 rows × 2 columns</p>\n",
       "</div>"
      ],
      "text/plain": [
       "    source  target\n",
       "0        0       1\n",
       "1        0       2\n",
       "2        0       3\n",
       "3        0       4\n",
       "4        0       5\n",
       "..     ...     ...\n",
       "73      30      32\n",
       "74      30      33\n",
       "75      31      32\n",
       "76      31      33\n",
       "77      32      33\n",
       "\n",
       "[78 rows x 2 columns]"
      ]
     },
     "execution_count": 114,
     "metadata": {},
     "output_type": "execute_result"
    }
   ],
   "source": [
    "data"
   ]
  },
  {
   "cell_type": "code",
   "execution_count": 115,
   "metadata": {},
   "outputs": [],
   "source": [
    "def visualize_communities(G, communities):\n",
    "    color_map = []\n",
    "    for node in G:\n",
    "        for i, community in enumerate(communities):\n",
    "            if node in community:\n",
    "                color_map.append(i)\n",
    "                break\n",
    "\n",
    "    # Draw the graph\n",
    "    fig, ax = plt.subplots(figsize=(15, 9))\n",
    "    ax.axis(\"off\")\n",
    "    plot_options = {\"node_size\": 50, \"with_labels\": False, \"width\": 0.15}\n",
    "    nx.draw_networkx(G, cmap = plt.cm.Paired, node_color=color_map, **plot_options)\n",
    "\n",
    "def communities_in_G(G, communities):\n",
    "    new_communities = [0] * len(G.nodes)\n",
    "    for i, community in enumerate(communities):\n",
    "        for node in community:\n",
    "            new_communities[node] = i\n",
    "\n",
    "    return new_communities"
   ]
  },
  {
   "cell_type": "markdown",
   "metadata": {},
   "source": [
    "## nx Modularity-based communities"
   ]
  },
  {
   "cell_type": "code",
   "execution_count": 116,
   "metadata": {},
   "outputs": [
    {
     "name": "stdout",
     "output_type": "stream",
     "text": [
      "Number of communities: 3\n",
      "Modularity: 0.3806706114398422\n",
      "True number of communities: 2\n",
      "AMI: 0.6807645098886008\n",
      "ARI: 0.6802559028644983\n"
     ]
    }
   ],
   "source": [
    "mbc = nx.community.greedy_modularity_communities(G)\n",
    "\n",
    "# mbc_communities = [0] * len(G.nodes)\n",
    "# for i, community in enumerate(mbc):\n",
    "#     for node in community:\n",
    "#         mbc_communities[node] = i\n",
    "\n",
    "mbc_communities = communities_in_G(G, mbc)\n",
    "\n",
    "# print(mbc)\n",
    "# print(mbc_communities)\n",
    "\n",
    "print(\"Number of communities:\", len(mbc))\n",
    "print(\"Modularity:\", nx.community.modularity(G, mbc))\n",
    "\n",
    "print(\"True number of communities:\", len(set(ground_communities)))\n",
    "\n",
    "print(\"AMI:\", adjusted_mutual_info_score(ground_communities, mbc_communities))\n",
    "print(\"ARI:\", adjusted_rand_score(ground_communities, mbc_communities))\n"
   ]
  },
  {
   "cell_type": "code",
   "execution_count": 117,
   "metadata": {},
   "outputs": [],
   "source": [
    "# visualize_communities(G, mbc)"
   ]
  },
  {
   "cell_type": "markdown",
   "metadata": {},
   "source": [
    "## nx Louvain Community Detection"
   ]
  },
  {
   "cell_type": "code",
   "execution_count": 118,
   "metadata": {},
   "outputs": [
    {
     "name": "stdout",
     "output_type": "stream",
     "text": [
      "Number of communities: 4\n",
      "Modularity: 0.41880341880341876\n",
      "AMI: 0.5653497612707894\n",
      "ARI: 0.46190687703984085\n"
     ]
    }
   ],
   "source": [
    "lcd = nx.community.louvain_communities(G, seed=123)\n",
    "\n",
    "lcd_communities = communities_in_G(G, lcd)\n",
    "\n",
    "print(\"Number of communities:\", len(lcd))\n",
    "print(\"Modularity:\", nx.community.modularity(G, lcd))\n",
    "\n",
    "print(\"AMI:\", adjusted_mutual_info_score(ground_communities, lcd_communities))\n",
    "print(\"ARI:\", adjusted_rand_score(ground_communities, lcd_communities))"
   ]
  },
  {
   "cell_type": "code",
   "execution_count": 119,
   "metadata": {},
   "outputs": [],
   "source": [
    "# visualize_communities(G, lcd)"
   ]
  },
  {
   "cell_type": "markdown",
   "metadata": {},
   "source": [
    "## nx Label propagation"
   ]
  },
  {
   "cell_type": "code",
   "execution_count": 120,
   "metadata": {},
   "outputs": [
    {
     "name": "stdout",
     "output_type": "stream",
     "text": [
      "Number of communities: 3\n",
      "Modularity: 0.11209730440499668\n",
      "AMI: 0.15164410211051946\n",
      "ARI: 0.08790794900284364\n"
     ]
    }
   ],
   "source": [
    "lp = nx.community.label_propagation_communities(G)\n",
    "\n",
    "lp_communities = communities_in_G(G, lp)\n",
    "\n",
    "print(\"Number of communities:\", len(lp))\n",
    "print(\"Modularity:\", nx.community.modularity(G, lp))\n",
    "\n",
    "print(\"AMI:\", adjusted_mutual_info_score(ground_communities, lp_communities))\n",
    "print(\"ARI:\", adjusted_rand_score(ground_communities, lp_communities))"
   ]
  },
  {
   "cell_type": "code",
   "execution_count": 121,
   "metadata": {},
   "outputs": [],
   "source": [
    "# visualize_communities(G, lp)"
   ]
  }
 ],
 "metadata": {
  "kernelspec": {
   "display_name": ".venv",
   "language": "python",
   "name": "python3"
  },
  "language_info": {
   "codemirror_mode": {
    "name": "ipython",
    "version": 3
   },
   "file_extension": ".py",
   "mimetype": "text/x-python",
   "name": "python",
   "nbconvert_exporter": "python",
   "pygments_lexer": "ipython3",
   "version": "3.12.0"
  }
 },
 "nbformat": 4,
 "nbformat_minor": 2
}
